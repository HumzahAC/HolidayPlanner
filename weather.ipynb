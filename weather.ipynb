{
 "cells": [
  {
   "cell_type": "code",
   "execution_count": 23,
   "id": "17444dc6",
   "metadata": {},
   "outputs": [
    {
     "name": "stdout",
     "output_type": "stream",
     "text": [
      "{'cod': '200', 'message': 0, 'cnt': 40, 'list': [{'dt': 1755529200, 'main': {'temp': 294.34, 'feels_like': 294.16, 'temp_min': 294.34, 'temp_max': 295.38, 'pressure': 1019, 'sea_level': 1019, 'grnd_level': 1015, 'humidity': 63, 'temp_kf': -1.04}, 'weather': [{'id': 804, 'main': 'Clouds', 'description': 'overcast clouds', 'icon': '04d'}], 'clouds': {'all': 100}, 'wind': {'speed': 4.06, 'deg': 87, 'gust': 4.9}, 'visibility': 10000, 'pop': 0, 'sys': {'pod': 'd'}, 'dt_txt': '2025-08-18 15:00:00'}, {'dt': 1755540000, 'main': {'temp': 294.22, 'feels_like': 293.95, 'temp_min': 293.97, 'temp_max': 294.22, 'pressure': 1019, 'sea_level': 1019, 'grnd_level': 1014, 'humidity': 60, 'temp_kf': 0.25}, 'weather': [{'id': 803, 'main': 'Clouds', 'description': 'broken clouds', 'icon': '04d'}], 'clouds': {'all': 78}, 'wind': {'speed': 4.35, 'deg': 87, 'gust': 5.56}, 'visibility': 10000, 'pop': 0, 'sys': {'pod': 'd'}, 'dt_txt': '2025-08-18 18:00:00'}, {'dt': 1755550800, 'main': {'temp': 292.45, 'feels_like': 292.13, 'temp_min': 291.51, 'temp_max': 292.45, 'pressure': 1018, 'sea_level': 1018, 'grnd_level': 1014, 'humidity': 65, 'temp_kf': 0.94}, 'weather': [{'id': 803, 'main': 'Clouds', 'description': 'broken clouds', 'icon': '04n'}], 'clouds': {'all': 57}, 'wind': {'speed': 4.23, 'deg': 78, 'gust': 8.71}, 'visibility': 10000, 'pop': 0, 'sys': {'pod': 'n'}, 'dt_txt': '2025-08-18 21:00:00'}, {'dt': 1755561600, 'main': {'temp': 289.8, 'feels_like': 289.45, 'temp_min': 289.8, 'temp_max': 289.8, 'pressure': 1018, 'sea_level': 1018, 'grnd_level': 1013, 'humidity': 74, 'temp_kf': 0}, 'weather': [{'id': 803, 'main': 'Clouds', 'description': 'broken clouds', 'icon': '04n'}], 'clouds': {'all': 68}, 'wind': {'speed': 3.9, 'deg': 58, 'gust': 9.16}, 'visibility': 10000, 'pop': 0, 'sys': {'pod': 'n'}, 'dt_txt': '2025-08-19 00:00:00'}, {'dt': 1755572400, 'main': {'temp': 288.66, 'feels_like': 288.43, 'temp_min': 288.66, 'temp_max': 288.66, 'pressure': 1017, 'sea_level': 1017, 'grnd_level': 1012, 'humidity': 83, 'temp_kf': 0}, 'weather': [{'id': 804, 'main': 'Clouds', 'description': 'overcast clouds', 'icon': '04n'}], 'clouds': {'all': 100}, 'wind': {'speed': 3.57, 'deg': 46, 'gust': 8.86}, 'visibility': 10000, 'pop': 0, 'sys': {'pod': 'n'}, 'dt_txt': '2025-08-19 03:00:00'}, {'dt': 1755583200, 'main': {'temp': 289.6, 'feels_like': 289.62, 'temp_min': 289.6, 'temp_max': 289.6, 'pressure': 1017, 'sea_level': 1017, 'grnd_level': 1012, 'humidity': 89, 'temp_kf': 0}, 'weather': [{'id': 804, 'main': 'Clouds', 'description': 'overcast clouds', 'icon': '04d'}], 'clouds': {'all': 100}, 'wind': {'speed': 3.82, 'deg': 43, 'gust': 8.21}, 'visibility': 10000, 'pop': 0, 'sys': {'pod': 'd'}, 'dt_txt': '2025-08-19 06:00:00'}, {'dt': 1755594000, 'main': {'temp': 292.76, 'feels_like': 292.66, 'temp_min': 292.76, 'temp_max': 292.76, 'pressure': 1016, 'sea_level': 1016, 'grnd_level': 1012, 'humidity': 72, 'temp_kf': 0}, 'weather': [{'id': 804, 'main': 'Clouds', 'description': 'overcast clouds', 'icon': '04d'}], 'clouds': {'all': 100}, 'wind': {'speed': 4.08, 'deg': 64, 'gust': 7.07}, 'visibility': 10000, 'pop': 0, 'sys': {'pod': 'd'}, 'dt_txt': '2025-08-19 09:00:00'}, {'dt': 1755604800, 'main': {'temp': 298.53, 'feels_like': 298.25, 'temp_min': 298.53, 'temp_max': 298.53, 'pressure': 1015, 'sea_level': 1015, 'grnd_level': 1011, 'humidity': 43, 'temp_kf': 0}, 'weather': [{'id': 804, 'main': 'Clouds', 'description': 'overcast clouds', 'icon': '04d'}], 'clouds': {'all': 100}, 'wind': {'speed': 4.8, 'deg': 77, 'gust': 6.12}, 'visibility': 10000, 'pop': 0, 'sys': {'pod': 'd'}, 'dt_txt': '2025-08-19 12:00:00'}, {'dt': 1755615600, 'main': {'temp': 299.49, 'feels_like': 299.49, 'temp_min': 299.49, 'temp_max': 299.49, 'pressure': 1014, 'sea_level': 1014, 'grnd_level': 1010, 'humidity': 41, 'temp_kf': 0}, 'weather': [{'id': 804, 'main': 'Clouds', 'description': 'overcast clouds', 'icon': '04d'}], 'clouds': {'all': 95}, 'wind': {'speed': 5.13, 'deg': 98, 'gust': 5.99}, 'visibility': 10000, 'pop': 0, 'sys': {'pod': 'd'}, 'dt_txt': '2025-08-19 15:00:00'}, {'dt': 1755626400, 'main': {'temp': 296.87, 'feels_like': 296.52, 'temp_min': 296.87, 'temp_max': 296.87, 'pressure': 1014, 'sea_level': 1014, 'grnd_level': 1010, 'humidity': 47, 'temp_kf': 0}, 'weather': [{'id': 804, 'main': 'Clouds', 'description': 'overcast clouds', 'icon': '04d'}], 'clouds': {'all': 98}, 'wind': {'speed': 4.96, 'deg': 57, 'gust': 6.43}, 'visibility': 10000, 'pop': 0, 'sys': {'pod': 'd'}, 'dt_txt': '2025-08-19 18:00:00'}, {'dt': 1755637200, 'main': {'temp': 291.4, 'feels_like': 290.98, 'temp_min': 291.4, 'temp_max': 291.4, 'pressure': 1016, 'sea_level': 1016, 'grnd_level': 1012, 'humidity': 65, 'temp_kf': 0}, 'weather': [{'id': 804, 'main': 'Clouds', 'description': 'overcast clouds', 'icon': '04n'}], 'clouds': {'all': 100}, 'wind': {'speed': 5.68, 'deg': 37, 'gust': 9.55}, 'visibility': 10000, 'pop': 0, 'sys': {'pod': 'n'}, 'dt_txt': '2025-08-19 21:00:00'}, {'dt': 1755648000, 'main': {'temp': 289.71, 'feels_like': 289.22, 'temp_min': 289.71, 'temp_max': 289.71, 'pressure': 1016, 'sea_level': 1016, 'grnd_level': 1012, 'humidity': 69, 'temp_kf': 0}, 'weather': [{'id': 804, 'main': 'Clouds', 'description': 'overcast clouds', 'icon': '04n'}], 'clouds': {'all': 100}, 'wind': {'speed': 4.75, 'deg': 40, 'gust': 9.61}, 'visibility': 10000, 'pop': 0, 'sys': {'pod': 'n'}, 'dt_txt': '2025-08-20 00:00:00'}, {'dt': 1755658800, 'main': {'temp': 289.38, 'feels_like': 288.86, 'temp_min': 289.38, 'temp_max': 289.38, 'pressure': 1016, 'sea_level': 1016, 'grnd_level': 1012, 'humidity': 69, 'temp_kf': 0}, 'weather': [{'id': 803, 'main': 'Clouds', 'description': 'broken clouds', 'icon': '04n'}], 'clouds': {'all': 77}, 'wind': {'speed': 4.31, 'deg': 46, 'gust': 7.31}, 'visibility': 10000, 'pop': 0, 'sys': {'pod': 'n'}, 'dt_txt': '2025-08-20 03:00:00'}, {'dt': 1755669600, 'main': {'temp': 289.43, 'feels_like': 288.73, 'temp_min': 289.43, 'temp_max': 289.43, 'pressure': 1016, 'sea_level': 1016, 'grnd_level': 1012, 'humidity': 62, 'temp_kf': 0}, 'weather': [{'id': 804, 'main': 'Clouds', 'description': 'overcast clouds', 'icon': '04d'}], 'clouds': {'all': 89}, 'wind': {'speed': 4.87, 'deg': 34, 'gust': 7.89}, 'visibility': 10000, 'pop': 0, 'sys': {'pod': 'd'}, 'dt_txt': '2025-08-20 06:00:00'}, {'dt': 1755680400, 'main': {'temp': 291.32, 'feels_like': 290.58, 'temp_min': 291.32, 'temp_max': 291.32, 'pressure': 1016, 'sea_level': 1016, 'grnd_level': 1012, 'humidity': 53, 'temp_kf': 0}, 'weather': [{'id': 804, 'main': 'Clouds', 'description': 'overcast clouds', 'icon': '04d'}], 'clouds': {'all': 92}, 'wind': {'speed': 5.24, 'deg': 33, 'gust': 7.43}, 'visibility': 10000, 'pop': 0, 'sys': {'pod': 'd'}, 'dt_txt': '2025-08-20 09:00:00'}, {'dt': 1755691200, 'main': {'temp': 296.41, 'feels_like': 295.65, 'temp_min': 296.41, 'temp_max': 296.41, 'pressure': 1015, 'sea_level': 1015, 'grnd_level': 1011, 'humidity': 33, 'temp_kf': 0}, 'weather': [{'id': 803, 'main': 'Clouds', 'description': 'broken clouds', 'icon': '04d'}], 'clouds': {'all': 81}, 'wind': {'speed': 5.01, 'deg': 29, 'gust': 6.86}, 'visibility': 10000, 'pop': 0, 'sys': {'pod': 'd'}, 'dt_txt': '2025-08-20 12:00:00'}, {'dt': 1755702000, 'main': {'temp': 297.57, 'feels_like': 296.82, 'temp_min': 297.57, 'temp_max': 297.57, 'pressure': 1015, 'sea_level': 1015, 'grnd_level': 1010, 'humidity': 29, 'temp_kf': 0}, 'weather': [{'id': 804, 'main': 'Clouds', 'description': 'overcast clouds', 'icon': '04d'}], 'clouds': {'all': 100}, 'wind': {'speed': 5.48, 'deg': 19, 'gust': 6.6}, 'visibility': 10000, 'pop': 0, 'sys': {'pod': 'd'}, 'dt_txt': '2025-08-20 15:00:00'}, {'dt': 1755712800, 'main': {'temp': 294.75, 'feels_like': 294.09, 'temp_min': 294.75, 'temp_max': 294.75, 'pressure': 1015, 'sea_level': 1015, 'grnd_level': 1011, 'humidity': 43, 'temp_kf': 0}, 'weather': [{'id': 804, 'main': 'Clouds', 'description': 'overcast clouds', 'icon': '04d'}], 'clouds': {'all': 99}, 'wind': {'speed': 5.55, 'deg': 21, 'gust': 5.46}, 'visibility': 10000, 'pop': 0, 'sys': {'pod': 'd'}, 'dt_txt': '2025-08-20 18:00:00'}, {'dt': 1755723600, 'main': {'temp': 290.74, 'feels_like': 290.07, 'temp_min': 290.74, 'temp_max': 290.74, 'pressure': 1017, 'sea_level': 1017, 'grnd_level': 1013, 'humidity': 58, 'temp_kf': 0}, 'weather': [{'id': 804, 'main': 'Clouds', 'description': 'overcast clouds', 'icon': '04n'}], 'clouds': {'all': 96}, 'wind': {'speed': 4.8, 'deg': 24, 'gust': 7.43}, 'visibility': 10000, 'pop': 0, 'sys': {'pod': 'n'}, 'dt_txt': '2025-08-20 21:00:00'}, {'dt': 1755734400, 'main': {'temp': 290.06, 'feels_like': 289.35, 'temp_min': 290.06, 'temp_max': 290.06, 'pressure': 1017, 'sea_level': 1017, 'grnd_level': 1013, 'humidity': 59, 'temp_kf': 0}, 'weather': [{'id': 804, 'main': 'Clouds', 'description': 'overcast clouds', 'icon': '04n'}], 'clouds': {'all': 96}, 'wind': {'speed': 4.61, 'deg': 32, 'gust': 7.63}, 'visibility': 10000, 'pop': 0, 'sys': {'pod': 'n'}, 'dt_txt': '2025-08-21 00:00:00'}, {'dt': 1755745200, 'main': {'temp': 288.64, 'feels_like': 287.89, 'temp_min': 288.64, 'temp_max': 288.64, 'pressure': 1017, 'sea_level': 1017, 'grnd_level': 1013, 'humidity': 63, 'temp_kf': 0}, 'weather': [{'id': 803, 'main': 'Clouds', 'description': 'broken clouds', 'icon': '04n'}], 'clouds': {'all': 57}, 'wind': {'speed': 3.93, 'deg': 30, 'gust': 7.11}, 'visibility': 10000, 'pop': 0, 'sys': {'pod': 'n'}, 'dt_txt': '2025-08-21 03:00:00'}, {'dt': 1755756000, 'main': {'temp': 287.82, 'feels_like': 287.04, 'temp_min': 287.82, 'temp_max': 287.82, 'pressure': 1018, 'sea_level': 1018, 'grnd_level': 1014, 'humidity': 65, 'temp_kf': 0}, 'weather': [{'id': 803, 'main': 'Clouds', 'description': 'broken clouds', 'icon': '04d'}], 'clouds': {'all': 75}, 'wind': {'speed': 4.82, 'deg': 21, 'gust': 7.89}, 'visibility': 10000, 'pop': 0, 'sys': {'pod': 'd'}, 'dt_txt': '2025-08-21 06:00:00'}, {'dt': 1755766800, 'main': {'temp': 290.73, 'feels_like': 289.82, 'temp_min': 290.73, 'temp_max': 290.73, 'pressure': 1019, 'sea_level': 1019, 'grnd_level': 1015, 'humidity': 49, 'temp_kf': 0}, 'weather': [{'id': 801, 'main': 'Clouds', 'description': 'few clouds', 'icon': '02d'}], 'clouds': {'all': 18}, 'wind': {'speed': 5.04, 'deg': 22, 'gust': 6.53}, 'visibility': 10000, 'pop': 0, 'sys': {'pod': 'd'}, 'dt_txt': '2025-08-21 09:00:00'}, {'dt': 1755777600, 'main': {'temp': 292.91, 'feels_like': 292.01, 'temp_min': 292.91, 'temp_max': 292.91, 'pressure': 1019, 'sea_level': 1019, 'grnd_level': 1015, 'humidity': 41, 'temp_kf': 0}, 'weather': [{'id': 801, 'main': 'Clouds', 'description': 'few clouds', 'icon': '02d'}], 'clouds': {'all': 13}, 'wind': {'speed': 4.67, 'deg': 22, 'gust': 5.68}, 'visibility': 10000, 'pop': 0, 'sys': {'pod': 'd'}, 'dt_txt': '2025-08-21 12:00:00'}, {'dt': 1755788400, 'main': {'temp': 294.69, 'feels_like': 293.79, 'temp_min': 294.69, 'temp_max': 294.69, 'pressure': 1018, 'sea_level': 1018, 'grnd_level': 1014, 'humidity': 34, 'temp_kf': 0}, 'weather': [{'id': 800, 'main': 'Clear', 'description': 'clear sky', 'icon': '01d'}], 'clouds': {'all': 7}, 'wind': {'speed': 4.22, 'deg': 6, 'gust': 5.1}, 'visibility': 10000, 'pop': 0, 'sys': {'pod': 'd'}, 'dt_txt': '2025-08-21 15:00:00'}, {'dt': 1755799200, 'main': {'temp': 292.66, 'feels_like': 291.68, 'temp_min': 292.66, 'temp_max': 292.66, 'pressure': 1019, 'sea_level': 1019, 'grnd_level': 1015, 'humidity': 39, 'temp_kf': 0}, 'weather': [{'id': 800, 'main': 'Clear', 'description': 'clear sky', 'icon': '01d'}], 'clouds': {'all': 8}, 'wind': {'speed': 4.71, 'deg': 7, 'gust': 4.61}, 'visibility': 10000, 'pop': 0, 'sys': {'pod': 'd'}, 'dt_txt': '2025-08-21 18:00:00'}, {'dt': 1755810000, 'main': {'temp': 289.24, 'feels_like': 288.24, 'temp_min': 289.24, 'temp_max': 289.24, 'pressure': 1021, 'sea_level': 1021, 'grnd_level': 1016, 'humidity': 51, 'temp_kf': 0}, 'weather': [{'id': 801, 'main': 'Clouds', 'description': 'few clouds', 'icon': '02n'}], 'clouds': {'all': 14}, 'wind': {'speed': 3.67, 'deg': 41, 'gust': 5.98}, 'visibility': 10000, 'pop': 0, 'sys': {'pod': 'n'}, 'dt_txt': '2025-08-21 21:00:00'}, {'dt': 1755820800, 'main': {'temp': 287.64, 'feels_like': 286.66, 'temp_min': 287.64, 'temp_max': 287.64, 'pressure': 1021, 'sea_level': 1021, 'grnd_level': 1017, 'humidity': 58, 'temp_kf': 0}, 'weather': [{'id': 801, 'main': 'Clouds', 'description': 'few clouds', 'icon': '02n'}], 'clouds': {'all': 11}, 'wind': {'speed': 2.37, 'deg': 43, 'gust': 4.46}, 'visibility': 10000, 'pop': 0, 'sys': {'pod': 'n'}, 'dt_txt': '2025-08-22 00:00:00'}, {'dt': 1755831600, 'main': {'temp': 286.68, 'feels_like': 285.68, 'temp_min': 286.68, 'temp_max': 286.68, 'pressure': 1021, 'sea_level': 1021, 'grnd_level': 1016, 'humidity': 61, 'temp_kf': 0}, 'weather': [{'id': 803, 'main': 'Clouds', 'description': 'broken clouds', 'icon': '04n'}], 'clouds': {'all': 62}, 'wind': {'speed': 1.54, 'deg': 11, 'gust': 2.92}, 'visibility': 10000, 'pop': 0, 'sys': {'pod': 'n'}, 'dt_txt': '2025-08-22 03:00:00'}, {'dt': 1755842400, 'main': {'temp': 286.27, 'feels_like': 285.31, 'temp_min': 286.27, 'temp_max': 286.27, 'pressure': 1021, 'sea_level': 1021, 'grnd_level': 1017, 'humidity': 64, 'temp_kf': 0}, 'weather': [{'id': 802, 'main': 'Clouds', 'description': 'scattered clouds', 'icon': '03d'}], 'clouds': {'all': 50}, 'wind': {'speed': 1.99, 'deg': 12, 'gust': 3.32}, 'visibility': 10000, 'pop': 0, 'sys': {'pod': 'd'}, 'dt_txt': '2025-08-22 06:00:00'}, {'dt': 1755853200, 'main': {'temp': 289.73, 'feels_like': 288.75, 'temp_min': 289.73, 'temp_max': 289.73, 'pressure': 1022, 'sea_level': 1022, 'grnd_level': 1018, 'humidity': 50, 'temp_kf': 0}, 'weather': [{'id': 800, 'main': 'Clear', 'description': 'clear sky', 'icon': '01d'}], 'clouds': {'all': 2}, 'wind': {'speed': 2.36, 'deg': 23, 'gust': 3.57}, 'visibility': 10000, 'pop': 0, 'sys': {'pod': 'd'}, 'dt_txt': '2025-08-22 09:00:00'}, {'dt': 1755864000, 'main': {'temp': 293.72, 'feels_like': 292.82, 'temp_min': 293.72, 'temp_max': 293.72, 'pressure': 1021, 'sea_level': 1021, 'grnd_level': 1017, 'humidity': 38, 'temp_kf': 0}, 'weather': [{'id': 800, 'main': 'Clear', 'description': 'clear sky', 'icon': '01d'}], 'clouds': {'all': 5}, 'wind': {'speed': 2.17, 'deg': 4, 'gust': 3.24}, 'visibility': 10000, 'pop': 0, 'sys': {'pod': 'd'}, 'dt_txt': '2025-08-22 12:00:00'}, {'dt': 1755874800, 'main': {'temp': 295.69, 'feels_like': 294.81, 'temp_min': 295.69, 'temp_max': 295.69, 'pressure': 1020, 'sea_level': 1020, 'grnd_level': 1016, 'humidity': 31, 'temp_kf': 0}, 'weather': [{'id': 800, 'main': 'Clear', 'description': 'clear sky', 'icon': '01d'}], 'clouds': {'all': 5}, 'wind': {'speed': 2.33, 'deg': 12, 'gust': 3.13}, 'visibility': 10000, 'pop': 0, 'sys': {'pod': 'd'}, 'dt_txt': '2025-08-22 15:00:00'}, {'dt': 1755885600, 'main': {'temp': 294.91, 'feels_like': 293.95, 'temp_min': 294.91, 'temp_max': 294.91, 'pressure': 1020, 'sea_level': 1020, 'grnd_level': 1016, 'humidity': 31, 'temp_kf': 0}, 'weather': [{'id': 800, 'main': 'Clear', 'description': 'clear sky', 'icon': '01d'}], 'clouds': {'all': 2}, 'wind': {'speed': 2.69, 'deg': 57, 'gust': 2.96}, 'visibility': 10000, 'pop': 0, 'sys': {'pod': 'd'}, 'dt_txt': '2025-08-22 18:00:00'}, {'dt': 1755896400, 'main': {'temp': 289.77, 'feels_like': 289, 'temp_min': 289.77, 'temp_max': 289.77, 'pressure': 1022, 'sea_level': 1022, 'grnd_level': 1018, 'humidity': 58, 'temp_kf': 0}, 'weather': [{'id': 802, 'main': 'Clouds', 'description': 'scattered clouds', 'icon': '03n'}], 'clouds': {'all': 25}, 'wind': {'speed': 2.83, 'deg': 146, 'gust': 4.67}, 'visibility': 10000, 'pop': 0, 'sys': {'pod': 'n'}, 'dt_txt': '2025-08-22 21:00:00'}, {'dt': 1755907200, 'main': {'temp': 288.75, 'feels_like': 287.88, 'temp_min': 288.75, 'temp_max': 288.75, 'pressure': 1022, 'sea_level': 1022, 'grnd_level': 1018, 'humidity': 58, 'temp_kf': 0}, 'weather': [{'id': 801, 'main': 'Clouds', 'description': 'few clouds', 'icon': '02n'}], 'clouds': {'all': 13}, 'wind': {'speed': 2.26, 'deg': 89, 'gust': 3.06}, 'visibility': 10000, 'pop': 0, 'sys': {'pod': 'n'}, 'dt_txt': '2025-08-23 00:00:00'}, {'dt': 1755918000, 'main': {'temp': 287.33, 'feels_like': 286.37, 'temp_min': 287.33, 'temp_max': 287.33, 'pressure': 1022, 'sea_level': 1022, 'grnd_level': 1018, 'humidity': 60, 'temp_kf': 0}, 'weather': [{'id': 800, 'main': 'Clear', 'description': 'clear sky', 'icon': '01n'}], 'clouds': {'all': 0}, 'wind': {'speed': 1.59, 'deg': 58, 'gust': 2.18}, 'visibility': 10000, 'pop': 0, 'sys': {'pod': 'n'}, 'dt_txt': '2025-08-23 03:00:00'}, {'dt': 1755928800, 'main': {'temp': 286.61, 'feels_like': 285.68, 'temp_min': 286.61, 'temp_max': 286.61, 'pressure': 1023, 'sea_level': 1023, 'grnd_level': 1018, 'humidity': 64, 'temp_kf': 0}, 'weather': [{'id': 800, 'main': 'Clear', 'description': 'clear sky', 'icon': '01d'}], 'clouds': {'all': 0}, 'wind': {'speed': 2.08, 'deg': 39, 'gust': 3.24}, 'visibility': 10000, 'pop': 0, 'sys': {'pod': 'd'}, 'dt_txt': '2025-08-23 06:00:00'}, {'dt': 1755939600, 'main': {'temp': 290.12, 'feels_like': 289.1, 'temp_min': 290.12, 'temp_max': 290.12, 'pressure': 1023, 'sea_level': 1023, 'grnd_level': 1019, 'humidity': 47, 'temp_kf': 0}, 'weather': [{'id': 800, 'main': 'Clear', 'description': 'clear sky', 'icon': '01d'}], 'clouds': {'all': 6}, 'wind': {'speed': 2.28, 'deg': 27, 'gust': 3.17}, 'visibility': 10000, 'pop': 0, 'sys': {'pod': 'd'}, 'dt_txt': '2025-08-23 09:00:00'}, {'dt': 1755950400, 'main': {'temp': 294.14, 'feels_like': 293.16, 'temp_min': 294.14, 'temp_max': 294.14, 'pressure': 1022, 'sea_level': 1022, 'grnd_level': 1018, 'humidity': 33, 'temp_kf': 0}, 'weather': [{'id': 800, 'main': 'Clear', 'description': 'clear sky', 'icon': '01d'}], 'clouds': {'all': 9}, 'wind': {'speed': 2.29, 'deg': 9, 'gust': 3.59}, 'visibility': 10000, 'pop': 0, 'sys': {'pod': 'd'}, 'dt_txt': '2025-08-23 12:00:00'}], 'city': {'id': 2643743, 'name': 'London', 'coord': {'lat': 51.5085, 'lon': -0.1257}, 'country': 'GB', 'population': 1000000, 'timezone': 3600, 'sunrise': 1755492661, 'sunset': 1755544679}}\n"
     ]
    }
   ],
   "source": [
    "import requests\n",
    "import pandas as pd\n",
    "from datetime import datetime as dt\n",
    "\n",
    "base_url = \"https://api.openweathermap.org/data/2.5/forecast?\"\n",
    "API_KEY = \"2c31da6690d1c4df5a807fd44ab9fe80\"\n",
    "city = \"London\"\n",
    "\n",
    "url = base_url + \"appid=\" + API_KEY + \"&q=\" + city\n",
    "\n",
    "response = requests.get(url).json()\n",
    "\n",
    "print(response)\n",
    "\n"
   ]
  },
  {
   "cell_type": "code",
   "execution_count": null,
   "id": "45ababab",
   "metadata": {},
   "outputs": [],
   "source": [
    "\n"
   ]
  },
  {
   "cell_type": "code",
   "execution_count": null,
   "id": "d4c58a6b",
   "metadata": {},
   "outputs": [],
   "source": [
    "\n"
   ]
  },
  {
   "cell_type": "code",
   "execution_count": null,
   "id": "b6140229",
   "metadata": {},
   "outputs": [],
   "source": []
  },
  {
   "cell_type": "code",
   "execution_count": 8,
   "id": "b1e77390",
   "metadata": {},
   "outputs": [
    {
     "name": "stdout",
     "output_type": "stream",
     "text": [
      "         city        date   tmin   tmax\n",
      "0       Miami  2025-08-21  29.32  35.67\n",
      "1       Miami  2025-08-22  29.28  33.96\n",
      "2       Miami  2025-08-23  29.42  33.83\n",
      "3       Miami  2025-08-24  25.77  32.03\n",
      "4       Miami  2025-08-25  29.13  32.64\n",
      "5     Jakarta  2025-08-21  25.44  28.77\n",
      "6     Jakarta  2025-08-22  25.40  31.02\n",
      "7     Jakarta  2025-08-23  25.55  30.42\n",
      "8     Jakarta  2025-08-24  25.82  31.33\n",
      "9     Jakarta  2025-08-25  26.06  31.23\n",
      "10  Singapore  2025-08-21  25.72  26.84\n",
      "11  Singapore  2025-08-22  26.84  27.43\n",
      "12  Singapore  2025-08-23  26.95  27.75\n",
      "13  Singapore  2025-08-24  27.25  27.60\n",
      "14  Singapore  2025-08-25  27.53  28.42\n"
     ]
    }
   ],
   "source": [
    "import requests                                 #used to send and receive http requests\n",
    "import pandas as pd                          #used to manipulate data and create dataframes\n",
    "from datetime import datetime, timezone     #used to work with dates and times\n",
    "\n",
    "API_KEY = \"2c31da6690d1c4df5a807fd44ab9fe80\"   # my key (should be kept private)\n",
    "UNITS = \"metric\"                               # Celsius\n",
    "CITIES = [\"Miami\", \"Jakarta\", \"Singapore\"]\n",
    "\n",
    "def geocode(city: str):         #Get lat/lon for a city as city names can be for multiple locations\n",
    "    r = requests.get(       #sends a reuqest to the geocoding API to get the latitude and longitude of the city\n",
    "        \"https://api.openweathermap.org/geo/1.0/direct\",\n",
    "        params={\"q\": city, \"limit\": 1, \"appid\": API_KEY},       #API call of city and limit 1 selects the largest match\n",
    "    )\n",
    "    js = r.json()                                       #converts the response to a JSON object\n",
    "    return js[0][\"lat\"], js[0][\"lon\"]               #returns the latitude and longitude of the city\n",
    "\n",
    "def daily_from_5day(lat, lon):              #uses coordinates to get the 5 day forecast\n",
    "    r = requests.get(\n",
    "        \"https://api.openweathermap.org/data/2.5/forecast\",\n",
    "        params={\"lat\": lat, \"lon\": lon, \"units\": UNITS, \"appid\": API_KEY},\n",
    "    )\n",
    "    data = r.json()\n",
    "\n",
    "    rows = []                                                   # list to hold daily temperature data\n",
    "    for it in data[\"list\"]:                                     # iterate through the 5-day forecast data                           \n",
    "        ts = datetime.fromtimestamp(it[\"dt\"], tz=timezone.utc)  #convert the timestamp to a datetime object\n",
    "        rows.append({                                           # dictionary to hold the date and temperature data\n",
    "            \"date\": ts.date(),\n",
    "            \"tmin\": it[\"main\"][\"temp_min\"],\n",
    "            \"tmax\": it[\"main\"][\"temp_max\"],\n",
    "        })\n",
    "\n",
    "    df = pd.DataFrame(rows)                        # create a DataFrame from the list of dictionaries       \n",
    "    daily = (\n",
    "        df.groupby(\"date\")              # group by date to aggregate daily temperatures\n",
    "        .agg(tmin=(\"tmin\", \"min\"), tmax=(\"tmax\", \"max\"))    # aggregate to daily min/max temperatures\n",
    "        .reset_index()\n",
    "        .sort_values(\"date\")\n",
    "    )\n",
    "    return daily\n",
    "\n",
    "def next_days_only(df: pd.DataFrame):           #Keep days strictly after today (tomorrow onward).\n",
    "    today = datetime.now(timezone.utc).date()\n",
    "    return df[df[\"date\"] > today].reset_index(drop=True)\n",
    "\n",
    "# run for each city\n",
    "all_out = []\n",
    "for city in CITIES:\n",
    "    lat, lon = geocode(city)\n",
    "    df = daily_from_5day(lat, lon)  #fetch daily forecast data\n",
    "    df = next_days_only(df)         #keep only future dates\n",
    "    df.insert(0, \"city\", city)  #insert the city name as the first column\n",
    "    all_out.append(df)             #save each city's data\n",
    "\n",
    "\n",
    "\n",
    "\n",
    "combined = pd.concat(all_out, ignore_index=True)\n",
    "combined.to_csv(\"forecast.csv\", index=False)\n",
    "print(combined)\n"
   ]
  },
  {
   "cell_type": "code",
   "execution_count": null,
   "id": "3b4c94ed",
   "metadata": {},
   "outputs": [],
   "source": []
  }
 ],
 "metadata": {
  "kernelspec": {
   "display_name": "Python 3",
   "language": "python",
   "name": "python3"
  },
  "language_info": {
   "codemirror_mode": {
    "name": "ipython",
    "version": 3
   },
   "file_extension": ".py",
   "mimetype": "text/x-python",
   "name": "python",
   "nbconvert_exporter": "python",
   "pygments_lexer": "ipython3",
   "version": "3.11.9"
  }
 },
 "nbformat": 4,
 "nbformat_minor": 5
}
